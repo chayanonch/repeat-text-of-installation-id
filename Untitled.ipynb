{
 "cells": [
  {
   "cell_type": "code",
   "execution_count": 1,
   "id": "a50c971e",
   "metadata": {},
   "outputs": [],
   "source": [
    "import pandas as pd\n",
    "import posixpath\n",
    "import os.path\n",
    "import openpyxl\n"
   ]
  },
  {
   "cell_type": "code",
   "execution_count": 2,
   "id": "6bd4ccce",
   "metadata": {},
   "outputs": [],
   "source": [
    "path = \"LP 1000\""
   ]
  },
  {
   "cell_type": "code",
   "execution_count": 3,
   "id": "4cbc6637",
   "metadata": {},
   "outputs": [],
   "source": [
    "# Change the directory\n",
    "os.chdir(path)"
   ]
  },
  {
   "cell_type": "code",
   "execution_count": 6,
   "id": "c4d7dd76",
   "metadata": {},
   "outputs": [],
   "source": [
    "# Read text File for find ID 6002529665\n",
    "\n",
    "   \n",
    "def read_text_file(file_path):\n",
    "    n='0'\n",
    "    with open(file_path, 'r') as f:\n",
    "        for line in f:\n",
    "            ID = line[:10]\n",
    "            if ID == \"6002529665\":\n",
    "                text.append(line)\n",
    "                n=1 \n",
    "            else:\n",
    "                if n=='0' :\n",
    "                    True\n",
    "                else:\n",
    "                    break\n"
   ]
  },
  {
   "cell_type": "code",
   "execution_count": 16,
   "id": "a8cab035",
   "metadata": {},
   "outputs": [
    {
     "name": "stdout",
     "output_type": "stream",
     "text": [
      "1.txt\n",
      "2.txt\n",
      "3.txt\n",
      "4.txt\n",
      "5.txt\n",
      "6.txt\n",
      "7.txt\n",
      "8.txt\n",
      "9.txt\n",
      "csv_file\n",
      "M_10.txt\n",
      "M_11.txt\n",
      "M_12.txt\n",
      "pandas_to_excel_3.xlsx\n"
     ]
    }
   ],
   "source": [
    "# iterate through all file\n",
    "text = []\n",
    "file_path_list = []\n",
    "\n",
    "for file in os.listdir():\n",
    "    # Check whether file is in text format or not\n",
    "    print(file)\n",
    "    if file.endswith(\".txt\"):\n",
    "        file_path = f\"{file}\"\n",
    "        # call read text file function\n",
    "        read_text_file(file_path)"
   ]
  },
  {
   "cell_type": "code",
   "execution_count": null,
   "id": "501d7f5f",
   "metadata": {},
   "outputs": [],
   "source": []
  },
  {
   "cell_type": "code",
   "execution_count": 17,
   "id": "cde5d842",
   "metadata": {},
   "outputs": [
    {
     "name": "stdout",
     "output_type": "stream",
     "text": [
      "                                                   0\n",
      "0  6002529665\\t2021-12-31T23:45:00\\t236\\t5.000\\t0...\n"
     ]
    }
   ],
   "source": [
    "for line in text:\n",
    "    data = pd.DataFrame([line])\n",
    "\n",
    "print(data)"
   ]
  },
  {
   "cell_type": "code",
   "execution_count": 33,
   "id": "d1b231c4",
   "metadata": {},
   "outputs": [],
   "source": [
    "split_string =[]\n",
    "write_string = []\n",
    "for line in text:\n",
    "    split_string=line.split(\"\\t\")\n",
    "    write_string.append(split_string)\n",
    "data = pd.DataFrame(write_string , columns =  [\"InstallationID\", \"Date-time\", \"Volts\" ,\"Amps\",\"KWH\" ,\"KVARH\" ,\"KWH EXP\" , \"Volts_A\" ,\n",
    "                                                \"Volts_B\" , \"Volts_C\" , \"Amps_A\" , \"Amps_B\" ,  \"Amps_c\" ])\n",
    "\n"
   ]
  },
  {
   "cell_type": "code",
   "execution_count": 37,
   "id": "8adb9441",
   "metadata": {},
   "outputs": [],
   "source": [
    "data.to_excel('pandas_to_excel_3.xlsx',index=False)"
   ]
  }
 ],
 "metadata": {
  "kernelspec": {
   "display_name": "Python 3 (ipykernel)",
   "language": "python",
   "name": "python3"
  },
  "language_info": {
   "codemirror_mode": {
    "name": "ipython",
    "version": 3
   },
   "file_extension": ".py",
   "mimetype": "text/x-python",
   "name": "python",
   "nbconvert_exporter": "python",
   "pygments_lexer": "ipython3",
   "version": "3.9.12"
  }
 },
 "nbformat": 4,
 "nbformat_minor": 5
}
