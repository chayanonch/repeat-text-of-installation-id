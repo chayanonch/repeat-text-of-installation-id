{
 "cells": [
  {
   "cell_type": "code",
   "execution_count": null,
   "metadata": {},
   "outputs": [],
   "source": [
    "import pandas as pd"
   ]
  },
  {
   "cell_type": "code",
   "execution_count": null,
   "metadata": {},
   "outputs": [],
   "source": [
    "import posixpath\n",
    "from pathlib import Path\n",
    "import os.path\n",
    "\n"
   ]
  },
  {
   "cell_type": "code",
   "execution_count": null,
   "metadata": {},
   "outputs": [],
   "source": [
    "df_converter = pd.read_excel('ID installation.xlsx', engine='openpyxl', dtype=str)\n",
    "#df_converter"
   ]
  },
  {
   "cell_type": "code",
   "execution_count": null,
   "metadata": {},
   "outputs": [],
   "source": [
    "converter_dict = {}\n",
    "\n",
    "for index, row in df_converter.iterrows():\n",
    "    converter_dict[row.LVMeter_INSTALLATIONID] = row.Dummy_INSTALLATIONID\n",
    "\n",
    "#converter_dict"
   ]
  },
  {
   "cell_type": "code",
   "execution_count": null,
   "metadata": {},
   "outputs": [],
   "source": [
    "numbers = []\n",
    "un_text = []\n",
    "with open('LP 4000\\JUN2021_4.txt','r') as infile:\n",
    "    for line in infile:\n",
    "        check = line[0:3]\n",
    "        id = line[:10]\n",
    "        unchanged_texts = line[10:] \n",
    "        if check == \"ï»¿\":\n",
    "            if id[3:4] == '6':\n",
    "                numbers.append(converter_dict[line[3:13]])  \n",
    "                un_text.append(unchanged_texts[3:])\n",
    "            else:\n",
    "                True\n",
    "        else:\n",
    "            numbers.append(converter_dict[id])\n",
    "            un_text.append(unchanged_texts)\n",
    "\n",
    "\n",
    "        \n",
    "    "
   ]
  },
  {
   "cell_type": "code",
   "execution_count": null,
   "metadata": {},
   "outputs": [],
   "source": [
    "# un_text"
   ]
  },
  {
   "cell_type": "code",
   "execution_count": null,
   "metadata": {},
   "outputs": [],
   "source": [
    "type(id[3:4])"
   ]
  },
  {
   "cell_type": "code",
   "execution_count": null,
   "metadata": {
    "scrolled": true
   },
   "outputs": [],
   "source": [
    "id"
   ]
  },
  {
   "cell_type": "code",
   "execution_count": null,
   "metadata": {},
   "outputs": [],
   "source": [
    "#numbers"
   ]
  },
  {
   "cell_type": "code",
   "execution_count": null,
   "metadata": {},
   "outputs": [],
   "source": [
    "#len(numbers)"
   ]
  },
  {
   "cell_type": "code",
   "execution_count": null,
   "metadata": {},
   "outputs": [],
   "source": [
    "#unchanged_texts"
   ]
  },
  {
   "cell_type": "code",
   "execution_count": null,
   "metadata": {},
   "outputs": [],
   "source": [
    "#unchanged_texts[3:]"
   ]
  },
  {
   "cell_type": "code",
   "execution_count": null,
   "metadata": {},
   "outputs": [],
   "source": [
    "string_to_write_list = []\n",
    "for number, un_text in zip(numbers,  un_text):\n",
    "    string_to_write = number + un_text\n",
    "    string_to_write_list.append(string_to_write)\n",
    "    "
   ]
  },
  {
   "cell_type": "code",
   "execution_count": null,
   "metadata": {},
   "outputs": [],
   "source": [
    "string_to_write"
   ]
  },
  {
   "cell_type": "code",
   "execution_count": null,
   "metadata": {},
   "outputs": [],
   "source": [
    "string_to_write_list"
   ]
  },
  {
   "cell_type": "code",
   "execution_count": null,
   "metadata": {},
   "outputs": [],
   "source": [
    "len( string_to_write_list)"
   ]
  },
  {
   "cell_type": "code",
   "execution_count": null,
   "metadata": {},
   "outputs": [],
   "source": [
    "save_path = 'total\\JUN_Complete'\n",
    "file_name = \"Jun2021_4Complete.txt\"\n",
    "completeName = os.path.join(save_path, file_name)\n",
    "file1 = open(completeName, 'w')\n",
    "file1.write(\"InstallationID Date-time Volts Amps KWH KVARH KWH EXP Volts_A Volts_B Volts_C Amps_A Amps_B Amps_c\\n\")\n",
    "for line in string_to_write_list:\n",
    "    file1.writelines(line)\n",
    "file1.close()\n"
   ]
  },
  {
   "cell_type": "code",
   "execution_count": null,
   "metadata": {},
   "outputs": [],
   "source": []
  },
  {
   "cell_type": "code",
   "execution_count": null,
   "metadata": {},
   "outputs": [],
   "source": []
  }
 ],
 "metadata": {
  "interpreter": {
   "hash": "3edb4ff5bccc07919a651a052fe8cab5f0b240b52a23085b5e3a8ff02c90cec8"
  },
  "kernelspec": {
   "display_name": "Python 3 (ipykernel)",
   "language": "python",
   "name": "python3"
  },
  "language_info": {
   "codemirror_mode": {
    "name": "ipython",
    "version": 3
   },
   "file_extension": ".py",
   "mimetype": "text/x-python",
   "name": "python",
   "nbconvert_exporter": "python",
   "pygments_lexer": "ipython3",
   "version": "3.9.12"
  }
 },
 "nbformat": 4,
 "nbformat_minor": 2
}
